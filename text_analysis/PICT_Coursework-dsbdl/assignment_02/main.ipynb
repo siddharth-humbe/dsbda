{
 "cells": [
  {
   "cell_type": "markdown",
   "id": "c4bc159a-39b3-4276-9d4d-938e15413de2",
   "metadata": {},
   "source": [
    "# DSBDL Assignment 02 - Data Wrangling 2\n",
    "\n",
    "Create an “Academic performance” dataset of students and perform the following operations \n",
    "using Python. \n",
    "1. Scan all variables for missing values and inconsistencies. If there are missing values \n",
    "and/or inconsistencies, use any of the suitable techniques to deal with them.\n",
    "2. Scan all numeric variables for outliers. If there are outliers, use any of the suitable \n",
    "techniques to deal with them.\n",
    "3. Apply data transformations on at least one of the variables. The purpose of this \n",
    "transformation should be one of the following reasons: to change the scale for better \n",
    "understanding of the variable, to convert a non-linear relation into a linear one, or to \n",
    "decrease the skewness and convert the distribution into a normal distribution.\n",
    "Reason and document your approach properly."
   ]
  },
  {
   "cell_type": "markdown",
   "id": "c3aa760c-eac4-4715-939f-5e12102997e2",
   "metadata": {},
   "source": [
    "Dataset details: https://www.kaggle.com/datasets/spscientist/students-performance-in-exams"
   ]
  },
  {
   "cell_type": "code",
   "execution_count": 1,
   "id": "4e240fbb-c737-4b20-b872-d61c9d96dfe5",
   "metadata": {
    "editable": true,
    "slideshow": {
     "slide_type": ""
    },
    "tags": []
   },
   "outputs": [],
   "source": [
    "import numpy as np\n",
    "import pandas as pd\n",
    "import seaborn as sns\n",
    "\n",
    "sns.set_theme( rc={ \"figure.figsize\": (5,3) } )"
   ]
  },
  {
   "cell_type": "code",
   "execution_count": 2,
   "id": "15d05f6b-513a-49fc-ad5b-67bbbc26e55b",
   "metadata": {},
   "outputs": [
    {
     "data": {
      "text/html": [
       "<div>\n",
       "<style scoped>\n",
       "    .dataframe tbody tr th:only-of-type {\n",
       "        vertical-align: middle;\n",
       "    }\n",
       "\n",
       "    .dataframe tbody tr th {\n",
       "        vertical-align: top;\n",
       "    }\n",
       "\n",
       "    .dataframe thead th {\n",
       "        text-align: right;\n",
       "    }\n",
       "</style>\n",
       "<table border=\"1\" class=\"dataframe\">\n",
       "  <thead>\n",
       "    <tr style=\"text-align: right;\">\n",
       "      <th></th>\n",
       "      <th>gender</th>\n",
       "      <th>race/ethnicity</th>\n",
       "      <th>parental level of education</th>\n",
       "      <th>lunch</th>\n",
       "      <th>test preparation course</th>\n",
       "      <th>math score</th>\n",
       "      <th>reading score</th>\n",
       "      <th>writing score</th>\n",
       "    </tr>\n",
       "  </thead>\n",
       "  <tbody>\n",
       "    <tr>\n",
       "      <th>0</th>\n",
       "      <td>female</td>\n",
       "      <td>group B</td>\n",
       "      <td>bachelor's degree</td>\n",
       "      <td>standard</td>\n",
       "      <td>none</td>\n",
       "      <td>72</td>\n",
       "      <td>72</td>\n",
       "      <td>74</td>\n",
       "    </tr>\n",
       "    <tr>\n",
       "      <th>1</th>\n",
       "      <td>female</td>\n",
       "      <td>group C</td>\n",
       "      <td>some college</td>\n",
       "      <td>standard</td>\n",
       "      <td>completed</td>\n",
       "      <td>69</td>\n",
       "      <td>90</td>\n",
       "      <td>88</td>\n",
       "    </tr>\n",
       "    <tr>\n",
       "      <th>2</th>\n",
       "      <td>female</td>\n",
       "      <td>group B</td>\n",
       "      <td>master's degree</td>\n",
       "      <td>standard</td>\n",
       "      <td>none</td>\n",
       "      <td>90</td>\n",
       "      <td>95</td>\n",
       "      <td>93</td>\n",
       "    </tr>\n",
       "    <tr>\n",
       "      <th>3</th>\n",
       "      <td>male</td>\n",
       "      <td>group A</td>\n",
       "      <td>associate's degree</td>\n",
       "      <td>free/reduced</td>\n",
       "      <td>none</td>\n",
       "      <td>47</td>\n",
       "      <td>57</td>\n",
       "      <td>44</td>\n",
       "    </tr>\n",
       "    <tr>\n",
       "      <th>4</th>\n",
       "      <td>male</td>\n",
       "      <td>group C</td>\n",
       "      <td>some college</td>\n",
       "      <td>standard</td>\n",
       "      <td>none</td>\n",
       "      <td>76</td>\n",
       "      <td>78</td>\n",
       "      <td>75</td>\n",
       "    </tr>\n",
       "  </tbody>\n",
       "</table>\n",
       "</div>"
      ],
      "text/plain": [
       "   gender race/ethnicity parental level of education         lunch  \\\n",
       "0  female        group B           bachelor's degree      standard   \n",
       "1  female        group C                some college      standard   \n",
       "2  female        group B             master's degree      standard   \n",
       "3    male        group A          associate's degree  free/reduced   \n",
       "4    male        group C                some college      standard   \n",
       "\n",
       "  test preparation course  math score  reading score  writing score  \n",
       "0                    none          72             72             74  \n",
       "1               completed          69             90             88  \n",
       "2                    none          90             95             93  \n",
       "3                    none          47             57             44  \n",
       "4                    none          76             78             75  "
      ]
     },
     "execution_count": 2,
     "metadata": {},
     "output_type": "execute_result"
    }
   ],
   "source": [
    "ds = pd.read_csv( \"dataset.csv\" )\n",
    "ds.head()"
   ]
  },
  {
   "cell_type": "code",
   "execution_count": 3,
   "id": "b3ac92c3-4eb2-4705-8546-2bd00e55dff2",
   "metadata": {},
   "outputs": [
    {
     "data": {
      "text/html": [
       "<div>\n",
       "<style scoped>\n",
       "    .dataframe tbody tr th:only-of-type {\n",
       "        vertical-align: middle;\n",
       "    }\n",
       "\n",
       "    .dataframe tbody tr th {\n",
       "        vertical-align: top;\n",
       "    }\n",
       "\n",
       "    .dataframe thead th {\n",
       "        text-align: right;\n",
       "    }\n",
       "</style>\n",
       "<table border=\"1\" class=\"dataframe\">\n",
       "  <thead>\n",
       "    <tr style=\"text-align: right;\">\n",
       "      <th></th>\n",
       "      <th>gender</th>\n",
       "      <th>race</th>\n",
       "      <th>parent_edu</th>\n",
       "      <th>lunch</th>\n",
       "      <th>course_completed</th>\n",
       "      <th>score_math</th>\n",
       "      <th>score_reading</th>\n",
       "      <th>score_writing</th>\n",
       "    </tr>\n",
       "  </thead>\n",
       "  <tbody>\n",
       "    <tr>\n",
       "      <th>0</th>\n",
       "      <td>female</td>\n",
       "      <td>group B</td>\n",
       "      <td>bachelor's degree</td>\n",
       "      <td>standard</td>\n",
       "      <td>none</td>\n",
       "      <td>72</td>\n",
       "      <td>72</td>\n",
       "      <td>74</td>\n",
       "    </tr>\n",
       "    <tr>\n",
       "      <th>1</th>\n",
       "      <td>female</td>\n",
       "      <td>group C</td>\n",
       "      <td>some college</td>\n",
       "      <td>standard</td>\n",
       "      <td>completed</td>\n",
       "      <td>69</td>\n",
       "      <td>90</td>\n",
       "      <td>88</td>\n",
       "    </tr>\n",
       "    <tr>\n",
       "      <th>2</th>\n",
       "      <td>female</td>\n",
       "      <td>group B</td>\n",
       "      <td>master's degree</td>\n",
       "      <td>standard</td>\n",
       "      <td>none</td>\n",
       "      <td>90</td>\n",
       "      <td>95</td>\n",
       "      <td>93</td>\n",
       "    </tr>\n",
       "    <tr>\n",
       "      <th>3</th>\n",
       "      <td>male</td>\n",
       "      <td>group A</td>\n",
       "      <td>associate's degree</td>\n",
       "      <td>free/reduced</td>\n",
       "      <td>none</td>\n",
       "      <td>47</td>\n",
       "      <td>57</td>\n",
       "      <td>44</td>\n",
       "    </tr>\n",
       "    <tr>\n",
       "      <th>4</th>\n",
       "      <td>male</td>\n",
       "      <td>group C</td>\n",
       "      <td>some college</td>\n",
       "      <td>standard</td>\n",
       "      <td>none</td>\n",
       "      <td>76</td>\n",
       "      <td>78</td>\n",
       "      <td>75</td>\n",
       "    </tr>\n",
       "  </tbody>\n",
       "</table>\n",
       "</div>"
      ],
      "text/plain": [
       "   gender     race          parent_edu         lunch course_completed  \\\n",
       "0  female  group B   bachelor's degree      standard             none   \n",
       "1  female  group C        some college      standard        completed   \n",
       "2  female  group B     master's degree      standard             none   \n",
       "3    male  group A  associate's degree  free/reduced             none   \n",
       "4    male  group C        some college      standard             none   \n",
       "\n",
       "   score_math  score_reading  score_writing  \n",
       "0          72             72             74  \n",
       "1          69             90             88  \n",
       "2          90             95             93  \n",
       "3          47             57             44  \n",
       "4          76             78             75  "
      ]
     },
     "execution_count": 3,
     "metadata": {},
     "output_type": "execute_result"
    }
   ],
   "source": [
    "ds = ds.rename( columns={\n",
    "    \"race/ethnicity\": \"race\" , \n",
    "    \"parental level of education\": \"parent_edu\" , \n",
    "    \"test preparation course\": \"course_completed\" , \n",
    "    \"math score\": \"score_math\" , \n",
    "    \"reading score\": \"score_reading\" , \n",
    "    \"writing score\": \"score_writing\"\n",
    "} )\n",
    "ds.head()"
   ]
  },
  {
   "cell_type": "code",
   "execution_count": 4,
   "id": "27f4bbc9-95ac-4b1c-b410-4a1ff5bb0307",
   "metadata": {},
   "outputs": [
    {
     "data": {
      "text/plain": [
       "gender              object\n",
       "race                object\n",
       "parent_edu          object\n",
       "lunch               object\n",
       "course_completed    object\n",
       "score_math           int64\n",
       "score_reading        int64\n",
       "score_writing        int64\n",
       "dtype: object"
      ]
     },
     "execution_count": 4,
     "metadata": {},
     "output_type": "execute_result"
    }
   ],
   "source": [
    "ds.dtypes"
   ]
  },
  {
   "attachments": {},
   "cell_type": "markdown",
   "id": "dca2396c",
   "metadata": {},
   "source": [
    "## 1. Checking for missing values"
   ]
  },
  {
   "cell_type": "code",
   "execution_count": 5,
   "id": "9e43a28b",
   "metadata": {},
   "outputs": [
    {
     "data": {
      "text/plain": [
       "gender              0\n",
       "race                0\n",
       "parent_edu          0\n",
       "lunch               0\n",
       "course_completed    0\n",
       "score_math          0\n",
       "score_reading       0\n",
       "score_writing       0\n",
       "dtype: int64"
      ]
     },
     "execution_count": 5,
     "metadata": {},
     "output_type": "execute_result"
    }
   ],
   "source": [
    "ds.isna().sum()"
   ]
  },
  {
   "cell_type": "markdown",
   "id": "cf95f4cd-e8c1-424c-89b5-ebadbac16ab6",
   "metadata": {},
   "source": [
    "## 2. Analysis of numeric variables: `score_math`, `score_reading` and `score_writing`"
   ]
  },
  {
   "cell_type": "markdown",
   "id": "d6586f72-8a4b-42b6-b67f-a85fd818bb47",
   "metadata": {},
   "source": [
    "### 2.1. Visualizing distributions of numeric variables"
   ]
  },
  {
   "cell_type": "code",
   "execution_count": 6,
   "id": "4f258236-50cd-439d-840a-d3697b79dd77",
   "metadata": {},
   "outputs": [
    {
     "data": {
      "text/plain": [
       "<Axes: xlabel='score_math', ylabel='Count'>"
      ]
     },
     "execution_count": 6,
     "metadata": {},
     "output_type": "execute_result"
    },
    {
     "data": {
      "image/png": "[encoded data removed]",
      "text/plain": [
       "<Figure size 500x300 with 1 Axes>"
      ]
     },
     "metadata": {},
     "output_type": "display_data"
    }
   ],
   "source": [
    "sns.histplot( ds.score_math )"
   ]
  },
  {
   "cell_type": "code",
   "execution_count": 7,
   "id": "194f1f5b-3039-46ee-84d8-1aaeb2bf6094",
   "metadata": {},
   "outputs": [
    {
     "data": {
      "text/plain": [
       "<Axes: xlabel='score_reading', ylabel='Count'>"
      ]
     },
     "execution_count": 7,
     "metadata": {},
     "output_type": "execute_result"
    },
    {
     "data": {
      "image/png": "[encoded data removed]",
      "text/plain": [
       "<Figure size 500x300 with 1 Axes>"
      ]
     },
     "metadata": {},
     "output_type": "display_data"
    }
   ],
   "source": [
    "sns.histplot( ds.score_reading )"
   ]
  },
  {
   "cell_type": "code",
   "execution_count": 8,
   "id": "6460c1db-3973-4f50-b1e6-21f78a7c0213",
   "metadata": {},
   "outputs": [
    {
     "data": {
      "text/plain": [
       "<Axes: xlabel='score_writing', ylabel='Count'>"
      ]
     },
     "execution_count": 8,
     "metadata": {},
     "output_type": "execute_result"
    },
    {
     "data": {
      "image/png": "[encoded data removed]",
      "text/plain": [
       "<Figure size 500x300 with 1 Axes>"
      ]
     },
     "metadata": {},
     "output_type": "display_data"
    }
   ],
   "source": [
    "sns.histplot( ds.score_writing )"
   ]
  },
  {
   "cell_type": "markdown",
   "id": "b7578bf1-b963-4bff-a11a-79f836e7456d",
   "metadata": {},
   "source": [
    "### 2.2. Remove outliers with IQR Rule"
   ]
  },
  {
   "cell_type": "code",
   "execution_count": 9,
   "id": "060e84b1-754e-4e51-86b4-def31c98a66d",
   "metadata": {},
   "outputs": [],
   "source": [
    "def remove_outliers(feature):\n",
    "    global ds\n",
    "    q3 , q1 = np.percentile( ds[feature] , [ 75 , 25 ] )\n",
    "    iqr = q3 - q1\n",
    "    ds = ds[ (ds[feature] >= q1 - 1.5 * iqr) & (ds[feature] <= q3 + 1.5 * iqr) ]\n",
    "    \n",
    "remove_outliers( \"score_writing\" )\n",
    "remove_outliers( \"score_math\" )\n",
    "remove_outliers( \"score_reading\" )"
   ]
  },
  {
   "cell_type": "code",
   "execution_count": 10,
   "id": "c9cd2115-28c2-4803-b880-a49f3843493b",
   "metadata": {},
   "outputs": [
    {
     "data": {
      "text/plain": [
       "<Axes: xlabel='score_math', ylabel='Count'>"
      ]
     },
     "execution_count": 10,
     "metadata": {},
     "output_type": "execute_result"
    },
    {
     "data": {
      "image/png": "[encoded data removed]",
      "text/plain": [
       "<Figure size 500x300 with 1 Axes>"
      ]
     },
     "metadata": {},
     "output_type": "display_data"
    }
   ],
   "source": [
    "sns.histplot( ds.score_math )"
   ]
  },
  {
   "cell_type": "code",
   "execution_count": 11,
   "id": "2d7eb5bc-807e-45a7-9f66-4626938a7d57",
   "metadata": {},
   "outputs": [
    {
     "data": {
      "text/plain": [
       "<Axes: xlabel='score_reading', ylabel='Count'>"
      ]
     },
     "execution_count": 11,
     "metadata": {},
     "output_type": "execute_result"
    },
    {
     "data": {
      "image/png": "[encoded data removed]",
      "text/plain": [
       "<Figure size 500x300 with 1 Axes>"
      ]
     },
     "metadata": {},
     "output_type": "display_data"
    }
   ],
   "source": [
    "sns.histplot( ds.score_reading )"
   ]
  },
  {
   "cell_type": "code",
   "execution_count": 12,
   "id": "47160e25-09d4-472b-a8c4-e644820afdfb",
   "metadata": {},
   "outputs": [
    {
     "data": {
      "text/plain": [
       "<Axes: xlabel='score_writing', ylabel='Count'>"
      ]
     },
     "execution_count": 12,
     "metadata": {},
     "output_type": "execute_result"
    },
    {
     "data": {
      "image/png": "[encoded data removed]",
      "text/plain": [
       "<Figure size 500x300 with 1 Axes>"
      ]
     },
     "metadata": {},
     "output_type": "display_data"
    }
   ],
   "source": [
    "sns.histplot( ds.score_writing )"
   ]
  },
  {
   "attachments": {},
   "cell_type": "markdown",
   "id": "f9fbcdf7",
   "metadata": {},
   "source": [
    "## 3. Data Transformation"
   ]
  },
  {
   "attachments": {},
   "cell_type": "markdown",
   "id": "4f057396",
   "metadata": {},
   "source": [
    "### 3.1. Encoding categorical variables"
   ]
  },
  {
   "cell_type": "code",
   "execution_count": 13,
   "id": "f2febe00",
   "metadata": {},
   "outputs": [],
   "source": [
    "def encode_categorical(feature):\n",
    "    values = ds[feature].unique()\n",
    "    label = 0\n",
    "    for val in values:\n",
    "        ds.loc[ ds[feature] == val , feature ] = label\n",
    "        label += 1\n",
    "\n",
    "encode_categorical( \"gender\" )\n",
    "encode_categorical( \"race\" )\n",
    "encode_categorical( \"parent_edu\" )\n",
    "encode_categorical( \"lunch\" )\n",
    "encode_categorical( \"course_completed\" )"
   ]
  },
  {
   "attachments": {},
   "cell_type": "markdown",
   "id": "e6a0f29c",
   "metadata": {},
   "source": [
    "### 3.2. Normalizing numeric features"
   ]
  },
  {
   "cell_type": "code",
   "execution_count": 14,
   "id": "cc01ef1d",
   "metadata": {},
   "outputs": [],
   "source": [
    "# As outliers are eliminated, both min-max or z-score\n",
    "# normalization can be used\n",
    "# Ref: https://stats.stackexchange.com/questions/547446/z-score-vs-min-max-normalization\n",
    "def z_score( feature ):\n",
    "    ds[feature] = ( ds[feature] - ds[feature].mean() ) / ds[feature].std()\n",
    "\n",
    "z_score( \"score_reading\" ) \n",
    "z_score( \"score_writing\" ) \n",
    "z_score( \"score_math\" ) "
   ]
  },
  {
   "cell_type": "code",
   "execution_count": 15,
   "id": "29117c4a",
   "metadata": {},
   "outputs": [
    {
     "data": {
      "text/html": [
       "<div>\n",
       "<style scoped>\n",
       "    .dataframe tbody tr th:only-of-type {\n",
       "        vertical-align: middle;\n",
       "    }\n",
       "\n",
       "    .dataframe tbody tr th {\n",
       "        vertical-align: top;\n",
       "    }\n",
       "\n",
       "    .dataframe thead th {\n",
       "        text-align: right;\n",
       "    }\n",
       "</style>\n",
       "<table border=\"1\" class=\"dataframe\">\n",
       "  <thead>\n",
       "    <tr style=\"text-align: right;\">\n",
       "      <th></th>\n",
       "      <th>gender</th>\n",
       "      <th>race</th>\n",
       "      <th>parent_edu</th>\n",
       "      <th>lunch</th>\n",
       "      <th>course_completed</th>\n",
       "      <th>score_math</th>\n",
       "      <th>score_reading</th>\n",
       "      <th>score_writing</th>\n",
       "    </tr>\n",
       "  </thead>\n",
       "  <tbody>\n",
       "    <tr>\n",
       "      <th>0</th>\n",
       "      <td>0</td>\n",
       "      <td>0</td>\n",
       "      <td>0</td>\n",
       "      <td>0</td>\n",
       "      <td>0</td>\n",
       "      <td>0.369943</td>\n",
       "      <td>0.163678</td>\n",
       "      <td>0.370964</td>\n",
       "    </tr>\n",
       "    <tr>\n",
       "      <th>1</th>\n",
       "      <td>0</td>\n",
       "      <td>1</td>\n",
       "      <td>1</td>\n",
       "      <td>0</td>\n",
       "      <td>1</td>\n",
       "      <td>0.160750</td>\n",
       "      <td>1.457644</td>\n",
       "      <td>1.341360</td>\n",
       "    </tr>\n",
       "    <tr>\n",
       "      <th>2</th>\n",
       "      <td>0</td>\n",
       "      <td>0</td>\n",
       "      <td>2</td>\n",
       "      <td>0</td>\n",
       "      <td>0</td>\n",
       "      <td>1.625105</td>\n",
       "      <td>1.817079</td>\n",
       "      <td>1.687930</td>\n",
       "    </tr>\n",
       "    <tr>\n",
       "      <th>3</th>\n",
       "      <td>1</td>\n",
       "      <td>2</td>\n",
       "      <td>3</td>\n",
       "      <td>1</td>\n",
       "      <td>0</td>\n",
       "      <td>-1.373337</td>\n",
       "      <td>-0.914627</td>\n",
       "      <td>-1.708457</td>\n",
       "    </tr>\n",
       "    <tr>\n",
       "      <th>4</th>\n",
       "      <td>1</td>\n",
       "      <td>1</td>\n",
       "      <td>1</td>\n",
       "      <td>0</td>\n",
       "      <td>0</td>\n",
       "      <td>0.648868</td>\n",
       "      <td>0.595000</td>\n",
       "      <td>0.440278</td>\n",
       "    </tr>\n",
       "    <tr>\n",
       "      <th>...</th>\n",
       "      <td>...</td>\n",
       "      <td>...</td>\n",
       "      <td>...</td>\n",
       "      <td>...</td>\n",
       "      <td>...</td>\n",
       "      <td>...</td>\n",
       "      <td>...</td>\n",
       "      <td>...</td>\n",
       "    </tr>\n",
       "    <tr>\n",
       "      <th>995</th>\n",
       "      <td>0</td>\n",
       "      <td>4</td>\n",
       "      <td>2</td>\n",
       "      <td>0</td>\n",
       "      <td>1</td>\n",
       "      <td>1.485643</td>\n",
       "      <td>2.104627</td>\n",
       "      <td>1.826558</td>\n",
       "    </tr>\n",
       "    <tr>\n",
       "      <th>996</th>\n",
       "      <td>1</td>\n",
       "      <td>1</td>\n",
       "      <td>4</td>\n",
       "      <td>1</td>\n",
       "      <td>0</td>\n",
       "      <td>-0.327369</td>\n",
       "      <td>-1.058402</td>\n",
       "      <td>-0.946003</td>\n",
       "    </tr>\n",
       "    <tr>\n",
       "      <th>997</th>\n",
       "      <td>0</td>\n",
       "      <td>1</td>\n",
       "      <td>4</td>\n",
       "      <td>1</td>\n",
       "      <td>1</td>\n",
       "      <td>-0.536563</td>\n",
       "      <td>0.091791</td>\n",
       "      <td>-0.252863</td>\n",
       "    </tr>\n",
       "    <tr>\n",
       "      <th>998</th>\n",
       "      <td>0</td>\n",
       "      <td>3</td>\n",
       "      <td>1</td>\n",
       "      <td>0</td>\n",
       "      <td>1</td>\n",
       "      <td>0.091018</td>\n",
       "      <td>0.595000</td>\n",
       "      <td>0.578906</td>\n",
       "    </tr>\n",
       "    <tr>\n",
       "      <th>999</th>\n",
       "      <td>0</td>\n",
       "      <td>3</td>\n",
       "      <td>1</td>\n",
       "      <td>1</td>\n",
       "      <td>0</td>\n",
       "      <td>0.718599</td>\n",
       "      <td>1.170096</td>\n",
       "      <td>1.202732</td>\n",
       "    </tr>\n",
       "  </tbody>\n",
       "</table>\n",
       "<p>986 rows × 8 columns</p>\n",
       "</div>"
      ],
      "text/plain": [
       "    gender race parent_edu lunch course_completed  score_math  score_reading  \\\n",
       "0        0    0          0     0                0    0.369943       0.163678   \n",
       "1        0    1          1     0                1    0.160750       1.457644   \n",
       "2        0    0          2     0                0    1.625105       1.817079   \n",
       "3        1    2          3     1                0   -1.373337      -0.914627   \n",
       "4        1    1          1     0                0    0.648868       0.595000   \n",
       "..     ...  ...        ...   ...              ...         ...            ...   \n",
       "995      0    4          2     0                1    1.485643       2.104627   \n",
       "996      1    1          4     1                0   -0.327369      -1.058402   \n",
       "997      0    1          4     1                1   -0.536563       0.091791   \n",
       "998      0    3          1     0                1    0.091018       0.595000   \n",
       "999      0    3          1     1                0    0.718599       1.170096   \n",
       "\n",
       "     score_writing  \n",
       "0         0.370964  \n",
       "1         1.341360  \n",
       "2         1.687930  \n",
       "3        -1.708457  \n",
       "4         0.440278  \n",
       "..             ...  \n",
       "995       1.826558  \n",
       "996      -0.946003  \n",
       "997      -0.252863  \n",
       "998       0.578906  \n",
       "999       1.202732  \n",
       "\n",
       "[986 rows x 8 columns]"
      ]
     },
     "execution_count": 15,
     "metadata": {},
     "output_type": "execute_result"
    }
   ],
   "source": [
    "ds"
   ]
  }
 ],
 "metadata": {
  "kernelspec": {
   "display_name": "Python 3",
   "language": "python",
   "name": "python3"
  },
  "language_info": {
   "codemirror_mode": {
    "name": "ipython",
    "version": 3
   },
   "file_extension": ".py",
   "mimetype": "text/x-python",
   "name": "python",
   "nbconvert_exporter": "python",
   "pygments_lexer": "ipython3",
   "version": "3.10.4"
  },
  "vscode": {
   "interpreter": {
    "hash": "2c09c812309b459f859a45c41ca72d6adb6f6fe1c64b1e59c891ac9ccd5cd845"
   }
  }
 },
 "nbformat": 4,
 "nbformat_minor": 5
}
