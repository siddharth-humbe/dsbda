{
 "cells": [
  {
   "attachments": {},
   "cell_type": "markdown",
   "id": "aa95dc96-dd77-42e3-8d74-014179610749",
   "metadata": {},
   "source": [
    "# 4. Data Visualization I \n",
    "\n",
    "1. Use the inbuilt dataset 'titanic'. The dataset contains 891 rows and contains information \n",
    "about the passengers who boarded the unfortunate Titanic ship. Use the Seaborn library \n",
    "to see if we can find any patterns in the data.\n",
    "2. Write a code to check how the price of the ticket (column name: 'fare') for each\n",
    " passenger is distributed by plotting a histogram.\n"
   ]
  },
  {
   "cell_type": "code",
   "execution_count": 1,
   "id": "51c08c11-7041-42ed-bd26-5f069d829bd3",
   "metadata": {},
   "outputs": [],
   "source": [
    "import numpy as np\n",
    "import pandas as pd\n",
    "import seaborn as sns"
   ]
  },
  {
   "cell_type": "markdown",
   "id": "edd1f251-40e6-4288-a767-a7bbd2eb6977",
   "metadata": {},
   "source": [
    "## 4.1. Preprocessing\n"
   ]
  },
  {
   "cell_type": "markdown",
   "id": "63172f9e-44f9-4340-9722-8946af34e26c",
   "metadata": {},
   "source": [
    "### 4.1.1. Structure of the dataset"
   ]
  },
  {
   "cell_type": "markdown",
   "id": "285c8dea-3267-415f-b087-ce30839d7b25",
   "metadata": {},
   "source": [
    "```\n",
    "survival\tSurvival\t0 = No, 1 = Yes\n",
    "pclass      Ticket class\t1 = 1st, 2 = 2nd, 3 = 3rd\n",
    "sex\tSex\t\n",
    "Age\tAge in years\t\n",
    "sibsp\t# of siblings / spouses aboard the Titanic\t\n",
    "parch\t# of parents / children aboard the Titanic\t\n",
    "ticket\tTicket number\t\n",
    "fare\tPassenger fare\t\n",
    "cabin\tCabin number\t\n",
    "embarked\tPort of Embarkation\tC = Cherbourg, Q = Queenstown, S = Southampton\n",
    "```"
   ]
  },
  {
   "cell_type": "code",
   "execution_count": 2,
   "id": "c5ed2050-9cdf-4137-a97f-057d74e4a16c",
   "metadata": {},
   "outputs": [
    {
     "name": "stdout",
     "output_type": "stream",
     "text": [
      "(891, 12)\n"
     ]
    },
    {
     "data": {
      "text/html": [
       "<div>\n",
       "<style scoped>\n",
       "    .dataframe tbody tr th:only-of-type {\n",
       "        vertical-align: middle;\n",
       "    }\n",
       "\n",
       "    .dataframe tbody tr th {\n",
       "        vertical-align: top;\n",
       "    }\n",
       "\n",
       "    .dataframe thead th {\n",
       "        text-align: right;\n",
       "    }\n",
       "</style>\n",
       "<table border=\"1\" class=\"dataframe\">\n",
       "  <thead>\n",
       "    <tr style=\"text-align: right;\">\n",
       "      <th></th>\n",
       "      <th>PassengerId</th>\n",
       "      <th>Survived</th>\n",
       "      <th>Pclass</th>\n",
       "      <th>Age</th>\n",
       "      <th>SibSp</th>\n",
       "      <th>Parch</th>\n",
       "      <th>Fare</th>\n",
       "    </tr>\n",
       "  </thead>\n",
       "  <tbody>\n",
       "    <tr>\n",
       "      <th>count</th>\n",
       "      <td>891.000000</td>\n",
       "      <td>891.000000</td>\n",
       "      <td>891.000000</td>\n",
       "      <td>714.000000</td>\n",
       "      <td>891.000000</td>\n",
       "      <td>891.000000</td>\n",
       "      <td>891.000000</td>\n",
       "    </tr>\n",
       "    <tr>\n",
       "      <th>mean</th>\n",
       "      <td>446.000000</td>\n",
       "      <td>0.383838</td>\n",
       "      <td>2.308642</td>\n",
       "      <td>29.699118</td>\n",
       "      <td>0.523008</td>\n",
       "      <td>0.381594</td>\n",
       "      <td>32.204208</td>\n",
       "    </tr>\n",
       "    <tr>\n",
       "      <th>std</th>\n",
       "      <td>257.353842</td>\n",
       "      <td>0.486592</td>\n",
       "      <td>0.836071</td>\n",
       "      <td>14.526497</td>\n",
       "      <td>1.102743</td>\n",
       "      <td>0.806057</td>\n",
       "      <td>49.693429</td>\n",
       "    </tr>\n",
       "    <tr>\n",
       "      <th>min</th>\n",
       "      <td>1.000000</td>\n",
       "      <td>0.000000</td>\n",
       "      <td>1.000000</td>\n",
       "      <td>0.420000</td>\n",
       "      <td>0.000000</td>\n",
       "      <td>0.000000</td>\n",
       "      <td>0.000000</td>\n",
       "    </tr>\n",
       "    <tr>\n",
       "      <th>25%</th>\n",
       "      <td>223.500000</td>\n",
       "      <td>0.000000</td>\n",
       "      <td>2.000000</td>\n",
       "      <td>20.125000</td>\n",
       "      <td>0.000000</td>\n",
       "      <td>0.000000</td>\n",
       "      <td>7.910400</td>\n",
       "    </tr>\n",
       "    <tr>\n",
       "      <th>50%</th>\n",
       "      <td>446.000000</td>\n",
       "      <td>0.000000</td>\n",
       "      <td>3.000000</td>\n",
       "      <td>28.000000</td>\n",
       "      <td>0.000000</td>\n",
       "      <td>0.000000</td>\n",
       "      <td>14.454200</td>\n",
       "    </tr>\n",
       "    <tr>\n",
       "      <th>75%</th>\n",
       "      <td>668.500000</td>\n",
       "      <td>1.000000</td>\n",
       "      <td>3.000000</td>\n",
       "      <td>38.000000</td>\n",
       "      <td>1.000000</td>\n",
       "      <td>0.000000</td>\n",
       "      <td>31.000000</td>\n",
       "    </tr>\n",
       "    <tr>\n",
       "      <th>max</th>\n",
       "      <td>891.000000</td>\n",
       "      <td>1.000000</td>\n",
       "      <td>3.000000</td>\n",
       "      <td>80.000000</td>\n",
       "      <td>8.000000</td>\n",
       "      <td>6.000000</td>\n",
       "      <td>512.329200</td>\n",
       "    </tr>\n",
       "  </tbody>\n",
       "</table>\n",
       "</div>"
      ],
      "text/plain": [
       "       PassengerId    Survived      Pclass         Age       SibSp  \\\n",
       "count   891.000000  891.000000  891.000000  714.000000  891.000000   \n",
       "mean    446.000000    0.383838    2.308642   29.699118    0.523008   \n",
       "std     257.353842    0.486592    0.836071   14.526497    1.102743   \n",
       "min       1.000000    0.000000    1.000000    0.420000    0.000000   \n",
       "25%     223.500000    0.000000    2.000000   20.125000    0.000000   \n",
       "50%     446.000000    0.000000    3.000000   28.000000    0.000000   \n",
       "75%     668.500000    1.000000    3.000000   38.000000    1.000000   \n",
       "max     891.000000    1.000000    3.000000   80.000000    8.000000   \n",
       "\n",
       "            Parch        Fare  \n",
       "count  891.000000  891.000000  \n",
       "mean     0.381594   32.204208  \n",
       "std      0.806057   49.693429  \n",
       "min      0.000000    0.000000  \n",
       "25%      0.000000    7.910400  \n",
       "50%      0.000000   14.454200  \n",
       "75%      0.000000   31.000000  \n",
       "max      6.000000  512.329200  "
      ]
     },
     "execution_count": 2,
     "metadata": {},
     "output_type": "execute_result"
    }
   ],
   "source": [
    "ds = pd.read_csv( \"titanic.csv\" )\n",
    "print( ds.shape )\n",
    "ds.describe()"
   ]
  },
  {
   "cell_type": "code",
   "execution_count": 3,
   "id": "fba49fc5-5a47-427c-95ad-1c34b852f7c8",
   "metadata": {},
   "outputs": [
    {
     "data": {
      "text/plain": [
       "PassengerId      int64\n",
       "Survived         int64\n",
       "Pclass           int64\n",
       "Name            object\n",
       "Sex             object\n",
       "Age            float64\n",
       "SibSp            int64\n",
       "Parch            int64\n",
       "Ticket          object\n",
       "Fare           float64\n",
       "Cabin           object\n",
       "Embarked        object\n",
       "dtype: object"
      ]
     },
     "execution_count": 3,
     "metadata": {},
     "output_type": "execute_result"
    }
   ],
   "source": [
    "ds.dtypes"
   ]
  },
  {
   "attachments": {},
   "cell_type": "markdown",
   "id": "ca0dfcd9-489b-43fb-9001-27c46709b062",
   "metadata": {},
   "source": [
    "### 4.1.2. Correcting data-types (optional)"
   ]
  },
  {
   "cell_type": "code",
   "execution_count": 4,
   "id": "399f405a-7242-45e1-839d-bff69a6100fb",
   "metadata": {},
   "outputs": [
    {
     "data": {
      "text/plain": [
       "PassengerId             int64\n",
       "Survived                int64\n",
       "Pclass                  int64\n",
       "Name           string[python]\n",
       "Sex            string[python]\n",
       "Age                   float64\n",
       "SibSp                   int64\n",
       "Parch                   int64\n",
       "Ticket         string[python]\n",
       "Fare                  float64\n",
       "Cabin          string[python]\n",
       "Embarked       string[python]\n",
       "dtype: object"
      ]
     },
     "execution_count": 4,
     "metadata": {},
     "output_type": "execute_result"
    }
   ],
   "source": [
    "ds = ds.astype( { \n",
    "    \"Name\": \"string\" , \n",
    "    \"Sex\": \"string\" , \n",
    "    \"Ticket\": \"string\"  , \n",
    "    \"Cabin\": \"string\"  , \n",
    "    \"Embarked\": \"string\"  , \n",
    "} )\n",
    "ds.dtypes"
   ]
  },
  {
   "cell_type": "markdown",
   "id": "a3289b6d-a419-4a8e-82f7-1581888beaff",
   "metadata": {},
   "source": [
    "### 4.1.3. Handling missing values"
   ]
  },
  {
   "cell_type": "code",
   "execution_count": 5,
   "id": "829f2e37-6fb2-4367-9cb2-e6a554fb54ce",
   "metadata": {},
   "outputs": [
    {
     "data": {
      "text/plain": [
       "PassengerId      0\n",
       "Survived         0\n",
       "Pclass           0\n",
       "Name             0\n",
       "Sex              0\n",
       "Age            177\n",
       "SibSp            0\n",
       "Parch            0\n",
       "Ticket           0\n",
       "Fare             0\n",
       "Cabin          687\n",
       "Embarked         2\n",
       "dtype: int64"
      ]
     },
     "execution_count": 5,
     "metadata": {},
     "output_type": "execute_result"
    }
   ],
   "source": [
    "# Check number of missing values\n",
    "ds.isna().sum()"
   ]
  },
  {
   "cell_type": "code",
   "execution_count": 6,
   "id": "e54ac3ff-1cbc-44a8-ad3d-0c5c1fe34d32",
   "metadata": {},
   "outputs": [
    {
     "name": "stdout",
     "output_type": "stream",
     "text": [
      "count    714.000000\n",
      "mean      29.699118\n",
      "std       14.526497\n",
      "min        0.420000\n",
      "25%       20.125000\n",
      "50%       28.000000\n",
      "75%       38.000000\n",
      "max       80.000000\n",
      "Name: Age, dtype: float64\n"
     ]
    }
   ],
   "source": [
    "# Check statistics of Age\n",
    "print( ds[ \"Age\" ].describe() )\n",
    "\n",
    "# As evident from the small std-dev of Age, most passengers\n",
    "# were young individuals, as indicated from a mean of 29 and median\n",
    "# of 28 years.\n",
    "# Replace missing ages with their median\n",
    "ds[\"Age\"] = ds[ \"Age\" ].fillna( ds[ \"Age\" ].median() ) "
   ]
  },
  {
   "cell_type": "code",
   "execution_count": 7,
   "id": "ef7e8f3c",
   "metadata": {},
   "outputs": [],
   "source": [
    "# Cabin values are (near) unique to each passenger\n",
    "# Hence, summary statistics cannot be used for imputation\n",
    "# Moreover, the feature is never used for data analysis, \n",
    "# as its value is (near) unique for each passenger\n",
    "# Hence, we skip its operation"
   ]
  },
  {
   "cell_type": "markdown",
   "id": "1a4df14d-003f-4c69-a20f-601a07d633d7",
   "metadata": {},
   "source": [
    "## 4.2. Exploratory Data Analysis"
   ]
  },
  {
   "cell_type": "markdown",
   "id": "6553b76d-e40a-4764-9c94-96c66b8a9c60",
   "metadata": {},
   "source": [
    "### 4.2.1. Visualization of each feature with target class `Survived`"
   ]
  },
  {
   "cell_type": "markdown",
   "id": "6e7b9e5a-8314-49af-8252-87d316ab8aae",
   "metadata": {},
   "source": [
    "Observation: Pclass = 3 (third class) passengers survived the least and Pclass = 1 (first class) passengers survived the most"
   ]
  },
  {
   "cell_type": "code",
   "execution_count": 8,
   "id": "4c0cec38-a87c-416b-9e43-95fd2b190967",
   "metadata": {},
   "outputs": [
    {
     "data": {
      "text/plain": [
       "<Axes: xlabel='Pclass', ylabel='count'>"
      ]
     },
     "execution_count": 8,
     "metadata": {},
     "output_type": "execute_result"
    },
    {
     "data": {
      "image/png": "[encoded data removed]",
      "text/plain": [
       "<Figure size 640x480 with 1 Axes>"
      ]
     },
     "metadata": {},
     "output_type": "display_data"
    }
   ],
   "source": [
    "# PClass vs Survived\n",
    "sns.countplot( data=ds , x=\"Pclass\" , hue=\"Survived\" )"
   ]
  },
  {
   "cell_type": "markdown",
   "id": "09034c60-61ae-4c45-b9fd-5419165b3c46",
   "metadata": {},
   "source": [
    "Observation: Males survived least, females the most"
   ]
  },
  {
   "cell_type": "code",
   "execution_count": 21,
   "id": "050b5073-a526-413a-8f98-88e2625b393a",
   "metadata": {},
   "outputs": [
    {
     "data": {
      "text/plain": [
       "<Axes: xlabel='Sex', ylabel='count'>"
      ]
     },
     "execution_count": 21,
     "metadata": {},
     "output_type": "execute_result"
    },
    {
     "data": {
      "image/png": "[encoded data removed]",
      "text/plain": [
       "<Figure size 640x480 with 1 Axes>"
      ]
     },
     "metadata": {},
     "output_type": "display_data"
    }
   ],
   "source": [
    "# Sex vs. Survived\n",
    "sns.countplot( data=ds , x=\"Sex\" , hue=\"Survived\" )"
   ]
  },
  {
   "attachments": {},
   "cell_type": "markdown",
   "id": "977697ea-6016-4018-bb6a-65e99252e42d",
   "metadata": {},
   "source": [
    "Observation: The distributions of `Age` for passengers surviving or not, are identical, considering their summary statistics below"
   ]
  },
  {
   "cell_type": "code",
   "execution_count": 12,
   "id": "0ec73d31",
   "metadata": {},
   "outputs": [
    {
     "name": "stdout",
     "output_type": "stream",
     "text": [
      "count    549.000000\n",
      "mean      30.028233\n",
      "std       12.499986\n",
      "min        1.000000\n",
      "25%       23.000000\n",
      "50%       28.000000\n",
      "75%       35.000000\n",
      "max       74.000000\n",
      "Name: Age, dtype: float64\n",
      "count    342.000000\n",
      "mean      28.291433\n",
      "std       13.764425\n",
      "min        0.420000\n",
      "25%       21.000000\n",
      "50%       28.000000\n",
      "75%       35.000000\n",
      "max       80.000000\n",
      "Name: Age, dtype: float64\n"
     ]
    },
    {
     "data": {
      "text/plain": [
       "<Axes: xlabel='Survived', ylabel='Age'>"
      ]
     },
     "execution_count": 12,
     "metadata": {},
     "output_type": "execute_result"
    },
    {
     "data": {
      "image/png": "[encoded data removed]",
      "text/plain": [
       "<Figure size 640x480 with 1 Axes>"
      ]
     },
     "metadata": {},
     "output_type": "display_data"
    }
   ],
   "source": [
    "# Age vs. Survived\n",
    "print( ds.loc[ ds[\"Survived\"] == 0 , \"Age\" ].describe() )\n",
    "print( ds.loc[ ds[\"Survived\"] == 1 , \"Age\" ].describe() )\n",
    "sns.boxplot( data=ds , x=\"Survived\" , y=\"Age\" )"
   ]
  },
  {
   "cell_type": "markdown",
   "id": "6b143cdf-e5db-423e-9908-7bc1a8716209",
   "metadata": {},
   "source": [
    "Observation: Most passengers which survived or didn't survive embarked the Titanic from Southampton"
   ]
  },
  {
   "cell_type": "code",
   "execution_count": 23,
   "id": "b910156b-46dd-4c7a-9e49-e10167321801",
   "metadata": {},
   "outputs": [
    {
     "data": {
      "text/plain": [
       "<Axes: xlabel='Embarked', ylabel='count'>"
      ]
     },
     "execution_count": 23,
     "metadata": {},
     "output_type": "execute_result"
    },
    {
     "data": {
      "image/png": "[encoded data removed]",
      "text/plain": [
       "<Figure size 640x480 with 1 Axes>"
      ]
     },
     "metadata": {},
     "output_type": "display_data"
    }
   ],
   "source": [
    "# Embarked vs. Survived\n",
    "sns.countplot( data=ds , x=\"Embarked\" , hue=\"Survived\" )"
   ]
  },
  {
   "cell_type": "markdown",
   "id": "0a712496-3b46-4428-a154-14a551518ea8",
   "metadata": {},
   "source": [
    "Observation: As first class passengers survived the most, passengers with higher fare survived, assuming the fact that first-class had a higher fare than other classes"
   ]
  },
  {
   "cell_type": "code",
   "execution_count": 24,
   "id": "2e071332-8bbb-4958-a903-47dac88c009a",
   "metadata": {},
   "outputs": [
    {
     "data": {
      "text/plain": [
       "<Axes: xlabel='Survived', ylabel='Fare'>"
      ]
     },
     "execution_count": 24,
     "metadata": {},
     "output_type": "execute_result"
    },
    {
     "data": {
      "image/png": "[encoded data removed]",
      "text/plain": [
       "<Figure size 640x480 with 1 Axes>"
      ]
     },
     "metadata": {},
     "output_type": "display_data"
    }
   ],
   "source": [
    "# Fare vs. Survived\n",
    "sns.boxplot( data=ds , x=\"Survived\" , y=\"Fare\" )"
   ]
  },
  {
   "cell_type": "code",
   "execution_count": 25,
   "id": "9d485aca-48d4-40ae-92da-d4b557a775e8",
   "metadata": {},
   "outputs": [
    {
     "data": {
      "text/plain": [
       "<Axes: xlabel='SibSp', ylabel='count'>"
      ]
     },
     "execution_count": 25,
     "metadata": {},
     "output_type": "execute_result"
    },
    {
     "data": {
      "image/png": "[encoded data removed]",
      "text/plain": [
       "<Figure size 640x480 with 1 Axes>"
      ]
     },
     "metadata": {},
     "output_type": "display_data"
    }
   ],
   "source": [
    "# SibSp vs. Survived\n",
    "# Most passengers did not have a sibling or spouse on-board\n",
    "sns.countplot( data=ds , x=\"SibSp\" , hue=\"Survived\" )"
   ]
  },
  {
   "cell_type": "code",
   "execution_count": 18,
   "id": "6f0c44b6-40f2-473d-a81f-912500089393",
   "metadata": {},
   "outputs": [
    {
     "data": {
      "text/plain": [
       "<Axes: xlabel='Parch', ylabel='count'>"
      ]
     },
     "execution_count": 18,
     "metadata": {},
     "output_type": "execute_result"
    },
    {
     "data": {
      "image/png": "[encoded data removed]",
      "text/plain": [
       "<Figure size 640x480 with 1 Axes>"
      ]
     },
     "metadata": {},
     "output_type": "display_data"
    }
   ],
   "source": [
    "# Parch vs. Survived\n",
    "# Most passengers did not have a parent or child on-board\n",
    "sns.countplot( data=ds , x=\"Parch\" , hue=\"Survived\" )"
   ]
  }
 ],
 "metadata": {
  "kernelspec": {
   "display_name": "Python 3",
   "language": "python",
   "name": "python3"
  },
  "language_info": {
   "codemirror_mode": {
    "name": "ipython",
    "version": 3
   },
   "file_extension": ".py",
   "mimetype": "text/x-python",
   "name": "python",
   "nbconvert_exporter": "python",
   "pygments_lexer": "ipython3",
   "version": "3.10.4"
  },
  "vscode": {
   "interpreter": {
    "hash": "2c09c812309b459f859a45c41ca72d6adb6f6fe1c64b1e59c891ac9ccd5cd845"
   }
  }
 },
 "nbformat": 4,
 "nbformat_minor": 5
}
